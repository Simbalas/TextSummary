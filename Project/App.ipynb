{
 "cells": [
  {
   "cell_type": "code",
   "execution_count": 1,
   "id": "f4625f2d-04fd-400b-a550-3e989d03c4fd",
   "metadata": {},
   "outputs": [
    {
     "name": "stderr",
     "output_type": "stream",
     "text": [
      "C:\\Users\\Domin\\AppData\\Local\\Programs\\Python\\Python310\\lib\\site-packages\\tqdm\\auto.py:21: TqdmWarning: IProgress not found. Please update jupyter and ipywidgets. See https://ipywidgets.readthedocs.io/en/stable/user_install.html\n",
      "  from .autonotebook import tqdm as notebook_tqdm\n"
     ]
    },
    {
     "name": "stdout",
     "output_type": "stream",
     "text": [
      "climate change is a complex and pressing issue that affects every corner of our globe. scientists and policymakers are working to mitigate climate change by reducing greenhouse gas emissions and promoting sustainable practices. climate change is one of the most significant challenges we face today.\n"
     ]
    }
   ],
   "source": [
    "from transformers import AutoTokenizer, AutoModelForSeq2SeqLM\n",
    "\n",
    "# T5-Small model\n",
    "tokenizer = AutoTokenizer.from_pretrained(\"t5-small\")\n",
    "model = AutoModelForSeq2SeqLM.from_pretrained(\"t5-small\")\n",
    "\n",
    "# Text to summarize\n",
    "text = \"summarize: \" + \"\"\"\n",
    "Climate change is a complex and pressing issue that affects every corner of our globe. It refers to significant changes in global temperatures and weather patterns over time. While climate change is a natural phenomenon, scientific evidence shows that human activities are the primary drivers of the unprecedented rate of change we're seeing today.\n",
    "\n",
    "The burning of fossil fuels such as coal, oil, and gas for electricity, heat, and transportation is the primary source of human-generated greenhouse gases. These gases trap heat from the sun in the Earth's atmosphere, leading to a rise in global temperatures, a process known as global warming.\n",
    "\n",
    "The consequences of climate change are far-reaching. Rising temperatures are causing polar ice caps and glaciers to melt, resulting in rising sea levels. This poses a significant threat to coastal cities and low-lying countries, which are at risk of flooding.\n",
    "\n",
    "Changes in weather patterns can lead to extreme weather events, such as hurricanes, droughts, and heatwaves. These events can have devastating effects on human life, infrastructure, and the economy.\n",
    "\n",
    "Climate change also impacts biodiversity and ecosystems. Changes in temperature and precipitation patterns can disrupt the lifecycle of plants and animals, leading to shifts in their distribution and behavior. In some cases, species may become extinct if they cannot adapt to the new conditions.\n",
    "\n",
    "Despite the challenges, there is hope. Scientists and policymakers worldwide are working to mitigate climate change by reducing greenhouse gas emissions and promoting sustainable practices. This includes transitioning to renewable energy sources, improving energy efficiency, and protecting and restoring forests.\n",
    "\n",
    "Public awareness and understanding of climate change are also crucial. By making informed choices about how we live, work, and vote, we can all contribute to the fight against climate change.\n",
    "\n",
    "In conclusion, climate change is one of the most significant challenges we face today. However, with concerted effort and global cooperation, we can work towards a sustainable and resilient future.\n",
    "\"\"\"\n",
    "\n",
    "\n",
    "# Encode the text\n",
    "inputs = tokenizer.encode(text, return_tensors=\"pt\")\n",
    "\n",
    "# Generate summary with the model\n",
    "outputs = model.generate(inputs, max_length=150, num_beams=5, length_penalty=1.0)\n",
    "\n",
    "# Decode the output\n",
    "summary = tokenizer.decode(outputs[0], skip_special_tokens=True)\n",
    "\n",
    "print(summary)\n"
   ]
  },
  {
   "cell_type": "code",
   "execution_count": null,
   "id": "1164b0f9-d458-494b-a9a9-95cfeccec802",
   "metadata": {},
   "outputs": [],
   "source": []
  }
 ],
 "metadata": {
  "kernelspec": {
   "display_name": "Python 3 (ipykernel)",
   "language": "python",
   "name": "python3"
  },
  "language_info": {
   "codemirror_mode": {
    "name": "ipython",
    "version": 3
   },
   "file_extension": ".py",
   "mimetype": "text/x-python",
   "name": "python",
   "nbconvert_exporter": "python",
   "pygments_lexer": "ipython3",
   "version": "3.10.7"
  }
 },
 "nbformat": 4,
 "nbformat_minor": 5
}
